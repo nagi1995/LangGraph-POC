{
 "cells": [
  {
   "cell_type": "code",
   "execution_count": 1,
   "id": "f85b7a71",
   "metadata": {},
   "outputs": [
    {
     "data": {
      "text/plain": [
       "True"
      ]
     },
     "execution_count": 1,
     "metadata": {},
     "output_type": "execute_result"
    }
   ],
   "source": [
    "import sys\n",
    "import os\n",
    "# sys.path.append(os.path.dirname(os.path.dirname(os.path.abspath(__file__))))\n",
    "from logger_config import logger\n",
    "\n",
    "from typing import TypedDict, Annotated\n",
    "from langgraph.graph import add_messages, StateGraph, END\n",
    "from langchain_groq import ChatGroq\n",
    "from langchain_core.messages import AIMessage, HumanMessage\n",
    "from langchain_community.tools.tavily_search import TavilySearchResults\n",
    "from langgraph.prebuilt import ToolNode\n",
    "\n",
    "from dotenv import load_dotenv\n",
    "\n",
    "load_dotenv()"
   ]
  },
  {
   "cell_type": "code",
   "execution_count": 2,
   "id": "b0bae886",
   "metadata": {},
   "outputs": [],
   "source": [
    "class ChildState(TypedDict):\n",
    "    messages: Annotated[list, add_messages]"
   ]
  },
  {
   "cell_type": "code",
   "execution_count": 3,
   "id": "67a5e33b",
   "metadata": {},
   "outputs": [],
   "source": [
    "search_tool = TavilySearchResults(max_results=1)\n",
    "tools = [search_tool]"
   ]
  },
  {
   "cell_type": "code",
   "execution_count": 4,
   "id": "cf5f1c64",
   "metadata": {},
   "outputs": [],
   "source": [
    "llm = ChatGroq(model=\"llama-3.1-8b-instant\")\n",
    "\n",
    "llm_with_tools = llm.bind_tools(tools=tools)"
   ]
  },
  {
   "cell_type": "code",
   "execution_count": 5,
   "id": "fad82d04",
   "metadata": {},
   "outputs": [],
   "source": [
    "def agent(state: ChildState):\n",
    "    return {\n",
    "        \"messages\": [llm_with_tools.invoke(state[\"messages\"])], \n",
    "    }\n"
   ]
  },
  {
   "cell_type": "code",
   "execution_count": 6,
   "id": "b59d7ee5",
   "metadata": {},
   "outputs": [],
   "source": [
    "def tools_router(state: ChildState):\n",
    "    last_message = state[\"messages\"][-1]\n",
    "\n",
    "    if(hasattr(last_message, \"tool_calls\") and len(last_message.tool_calls) > 0):\n",
    "        return \"tool_node\"\n",
    "    else: \n",
    "        return END\n"
   ]
  },
  {
   "cell_type": "code",
   "execution_count": 7,
   "id": "a9ef4950",
   "metadata": {},
   "outputs": [],
   "source": [
    "tool_node = ToolNode(tools=tools)\n",
    "\n",
    "subgraph = StateGraph(ChildState)\n",
    "\n",
    "subgraph.add_node(\"agent\", agent)\n",
    "subgraph.add_node(\"tool_node\", tool_node)\n",
    "subgraph.set_entry_point(\"agent\")\n",
    "\n",
    "subgraph.add_conditional_edges(\"agent\", tools_router)\n",
    "subgraph.add_edge(\"tool_node\", \"agent\")\n",
    "\n",
    "search_app = subgraph.compile()"
   ]
  },
  {
   "cell_type": "code",
   "execution_count": 9,
   "id": "6a0f79f2",
   "metadata": {},
   "outputs": [
    {
     "data": {
      "text/plain": [
       "{'messages': [HumanMessage(content='How is the weather in Hyd?', additional_kwargs={}, response_metadata={}, id='5d188797-8adb-43c4-bb18-c7a1227fe040'),\n",
       "  AIMessage(content='', additional_kwargs={'tool_calls': [{'id': 'call_repw', 'function': {'arguments': '{\"query\": \"weather in Hyderabad today\"}', 'name': 'tavily_search_results_json'}, 'type': 'function'}]}, response_metadata={'token_usage': {'completion_tokens': 21, 'prompt_tokens': 571, 'total_tokens': 592, 'completion_time': 0.028, 'prompt_time': 0.024628167, 'queue_time': -0.051786647, 'total_time': 0.052628167}, 'model_name': 'llama-3.1-8b-instant', 'system_fingerprint': 'fp_a4265e44d5', 'finish_reason': 'tool_calls', 'logprobs': None}, id='run-98977ed0-7e39-4b45-b16d-2671473f43ef-0', tool_calls=[{'name': 'tavily_search_results_json', 'args': {'query': 'weather in Hyderabad today'}, 'id': 'call_repw', 'type': 'tool_call'}], usage_metadata={'input_tokens': 571, 'output_tokens': 21, 'total_tokens': 592}),\n",
       "  ToolMessage(content='[{\"url\": \"https://timesofindia.indiatimes.com/weather/hyderabad-weather-forecast-today/500002\", \"content\": \"Today\\'s Weather in Hyderabad: In Hyderabad today, the weather is expected to be Light Drizzle with a maximum temperature of 34°C and a minimum of 25°C.\"}]', name='tavily_search_results_json', id='60c4f566-ad0c-4d49-9301-91c7d20b2cce', tool_call_id='call_repw', artifact={'query': 'weather in Hyderabad today', 'follow_up_questions': None, 'answer': None, 'images': [], 'results': [{'url': 'https://timesofindia.indiatimes.com/weather/hyderabad-weather-forecast-today/500002', 'title': 'Hyderabad Weather Forecast 16 May 2025 - Times of India', 'content': \"Today's Weather in Hyderabad: In Hyderabad today, the weather is expected to be Light Drizzle with a maximum temperature of 34°C and a minimum of 25°C.\", 'score': 0.9571539, 'raw_content': None}], 'response_time': 2.24}),\n",
       "  AIMessage(content='', additional_kwargs={'tool_calls': [{'id': 'call_65d1', 'function': {'arguments': '{\"query\": \"Hyderabad weather forecast for the week\"}', 'name': 'tavily_search_results_json'}, 'type': 'function'}]}, response_metadata={'token_usage': {'completion_tokens': 24, 'prompt_tokens': 386, 'total_tokens': 410, 'completion_time': 0.032, 'prompt_time': 0.081987792, 'queue_time': 0.065540767, 'total_time': 0.113987792}, 'model_name': 'llama-3.1-8b-instant', 'system_fingerprint': 'fp_a4265e44d5', 'finish_reason': 'tool_calls', 'logprobs': None}, id='run-83b66dea-8e02-456e-9354-d99874150d4f-0', tool_calls=[{'name': 'tavily_search_results_json', 'args': {'query': 'Hyderabad weather forecast for the week'}, 'id': 'call_65d1', 'type': 'tool_call'}], usage_metadata={'input_tokens': 386, 'output_tokens': 24, 'total_tokens': 410}),\n",
       "  ToolMessage(content='[{\"url\": \"https://timesofindia.indiatimes.com/weather/hyderabad-weather-forecast-today/500002\", \"content\": \"Today\\'s Weather in Hyderabad: In Hyderabad today, the weather is expected to be Light Drizzle with a maximum temperature of 34°C and a minimum of 25°C.\"}]', name='tavily_search_results_json', id='1e0ed91e-8a16-4418-8538-3e6533e432c9', tool_call_id='call_65d1', artifact={'query': 'Hyderabad weather forecast for the week', 'follow_up_questions': None, 'answer': None, 'images': [], 'results': [{'url': 'https://timesofindia.indiatimes.com/weather/hyderabad-weather-forecast-today/500002', 'title': 'Hyderabad Weather Forecast 16 May 2025 - Times of India', 'content': \"Today's Weather in Hyderabad: In Hyderabad today, the weather is expected to be Light Drizzle with a maximum temperature of 34°C and a minimum of 25°C.\", 'score': 0.9692574, 'raw_content': None}], 'response_time': 2.29}),\n",
       "  AIMessage(content='The current weather in Hyderabad is Light Drizzle with a maximum temperature of 34°C and a minimum of 25°C.', additional_kwargs={}, response_metadata={'token_usage': {'completion_tokens': 26, 'prompt_tokens': 489, 'total_tokens': 515, 'completion_time': 0.034666667, 'prompt_time': 0.028409797, 'queue_time': 0.052201393, 'total_time': 0.063076464}, 'model_name': 'llama-3.1-8b-instant', 'system_fingerprint': 'fp_f7bd09b454', 'finish_reason': 'stop', 'logprobs': None}, id='run-2cc77725-e947-4e8f-a6d0-b8a96b404b26-0', usage_metadata={'input_tokens': 489, 'output_tokens': 26, 'total_tokens': 515})]}"
      ]
     },
     "execution_count": 9,
     "metadata": {},
     "output_type": "execute_result"
    }
   ],
   "source": [
    "search_app.invoke({\"messages\": [HumanMessage(content=\"How is the weather in Hyd?\")]})"
   ]
  },
  {
   "cell_type": "markdown",
   "id": "0719f6ce",
   "metadata": {},
   "source": [
    "# Case 1: Shared Schema (Direct Embedding)"
   ]
  },
  {
   "cell_type": "code",
   "execution_count": 10,
   "id": "e4892fe7",
   "metadata": {},
   "outputs": [],
   "source": [
    "from typing import TypedDict, Annotated\n",
    "from langgraph.graph import add_messages, StateGraph, START, END\n",
    "from langchain_core.messages import HumanMessage"
   ]
  },
  {
   "cell_type": "code",
   "execution_count": 11,
   "id": "11c82572",
   "metadata": {},
   "outputs": [],
   "source": [
    "# Define parent graph with the same schema\n",
    "class ParentState(TypedDict):\n",
    "    messages: Annotated[list, add_messages]\n"
   ]
  },
  {
   "cell_type": "code",
   "execution_count": 12,
   "id": "cff085f0",
   "metadata": {},
   "outputs": [],
   "source": [
    "# Create parent graph\n",
    "parent_graph = StateGraph(ParentState)\n",
    "\n",
    "# Add the subgraph as a node\n",
    "parent_graph.add_node(\"search_agent\", search_app)\n",
    "\n",
    "# Connect the flow\n",
    "parent_graph.add_edge(START, \"search_agent\")\n",
    "parent_graph.add_edge(\"search_agent\", END)\n",
    "\n",
    "# Compile parent graph\n",
    "parent_app = parent_graph.compile()"
   ]
  },
  {
   "cell_type": "code",
   "execution_count": 16,
   "id": "fbd152f1",
   "metadata": {},
   "outputs": [
    {
     "data": {
      "text/plain": [
       "{'messages': [HumanMessage(content='How is the weather in hanamkonda, telangana?', additional_kwargs={}, response_metadata={}, id='07f49140-a6b1-4a08-ae02-6c950399532b'),\n",
       "  AIMessage(content='', additional_kwargs={'tool_calls': [{'id': 'call_jnjh', 'function': {'arguments': '{\"query\": \"hanamkonda telangana weather today\"}', 'name': 'tavily_search_results_json'}, 'type': 'function'}]}, response_metadata={'token_usage': {'completion_tokens': 26, 'prompt_tokens': 583, 'total_tokens': 609, 'completion_time': 0.034666667, 'prompt_time': 0.025464977, 'queue_time': -0.061104507, 'total_time': 0.060131644}, 'model_name': 'llama-3.1-8b-instant', 'system_fingerprint': 'fp_a4265e44d5', 'finish_reason': 'tool_calls', 'logprobs': None}, id='run-f87dde32-3df2-4b0c-a098-aae89eea1ce7-0', tool_calls=[{'name': 'tavily_search_results_json', 'args': {'query': 'hanamkonda telangana weather today'}, 'id': 'call_jnjh', 'type': 'tool_call'}], usage_metadata={'input_tokens': 583, 'output_tokens': 26, 'total_tokens': 609}),\n",
       "  ToolMessage(content='[{\"url\": \"https://city.imd.gov.in/citywx/city_weather.php?id=43087\", \"content\": \"Local Weather Report and Forecast For: Hanamkonda Dated :May 15, 2025 ... 16-May, 23.0, 33.0, Generally cloudy sky with intermittent rain. 17-May, 22.0, 33.0\"}]', name='tavily_search_results_json', id='fb1a3bee-7d37-4398-aae8-14f54947a2d6', tool_call_id='call_jnjh', artifact={'query': 'hanamkonda telangana weather today', 'follow_up_questions': None, 'answer': None, 'images': [], 'results': [{'url': 'https://city.imd.gov.in/citywx/city_weather.php?id=43087', 'title': 'Local Weather Report and Forecast', 'content': 'Local Weather Report and Forecast For: Hanamkonda Dated :May 15, 2025 ... 16-May, 23.0, 33.0, Generally cloudy sky with intermittent rain. 17-May, 22.0, 33.0', 'score': 0.9311691, 'raw_content': None}], 'response_time': 3.88}),\n",
       "  AIMessage(content='', additional_kwargs={'tool_calls': [{'id': 'call_wy6e', 'function': {'arguments': '{\"query\": \"hanamkonda telangana weather forecast 5 days\"}', 'name': 'tavily_search_results_json'}, 'type': 'function'}]}, response_metadata={'token_usage': {'completion_tokens': 29, 'prompt_tokens': 414, 'total_tokens': 443, 'completion_time': 0.038666667, 'prompt_time': 0.041210603, 'queue_time': 0.06924970600000001, 'total_time': 0.07987727}, 'model_name': 'llama-3.1-8b-instant', 'system_fingerprint': 'fp_f7bd09b454', 'finish_reason': 'tool_calls', 'logprobs': None}, id='run-93e97c46-164d-4aff-80eb-68aaae84d919-0', tool_calls=[{'name': 'tavily_search_results_json', 'args': {'query': 'hanamkonda telangana weather forecast 5 days'}, 'id': 'call_wy6e', 'type': 'tool_call'}], usage_metadata={'input_tokens': 414, 'output_tokens': 29, 'total_tokens': 443}),\n",
       "  ToolMessage(content='[{\"url\": \"https://www.weatherapi.com/\", \"content\": \"{\\'location\\': {\\'name\\': \\'Karimnagar\\', \\'region\\': \\'Telangana\\', \\'country\\': \\'India\\', \\'lat\\': 18.4333, \\'lon\\': 79.15, \\'tz_id\\': \\'Asia/Kolkata\\', \\'localtime_epoch\\': 1747398923, \\'localtime\\': \\'2025-05-16 18:05\\'}, \\'current\\': {\\'last_updated_epoch\\': 1747398600, \\'last_updated\\': \\'2025-05-16 18:00\\', \\'temp_c\\': 36.8, \\'temp_f\\': 98.3, \\'is_day\\': 1, \\'condition\\': {\\'text\\': \\'Sunny\\', \\'icon\\': \\'//cdn.weatherapi.com/weather/64x64/day/113.png\\', \\'code\\': 1000}, \\'wind_mph\\': 4.7, \\'wind_kph\\': 7.6, \\'wind_degree\\': 352, \\'wind_dir\\': \\'N\\', \\'pressure_mb\\': 1002.0, \\'pressure_in\\': 29.6, \\'precip_mm\\': 0.0, \\'precip_in\\': 0.0, \\'humidity\\': 32, \\'cloud\\': 8, \\'feelslike_c\\': 38.9, \\'feelslike_f\\': 102.1, \\'windchill_c\\': 36.8, \\'windchill_f\\': 98.3, \\'heatindex_c\\': 38.9, \\'heatindex_f\\': 102.1, \\'dewpoint_c\\': 17.6, \\'dewpoint_f\\': 63.7, \\'vis_km\\': 10.0, \\'vis_miles\\': 6.0, \\'uv\\': 0.0, \\'gust_mph\\': 6.3, \\'gust_kph\\': 10.1}}\"}]', name='tavily_search_results_json', id='cb442ae9-7281-44bb-b7ac-336ad011a57a', tool_call_id='call_wy6e', artifact={'query': 'hanamkonda telangana weather forecast 5 days', 'follow_up_questions': None, 'answer': None, 'images': [], 'results': [{'title': 'Weather in hanamkonda, telangana', 'url': 'https://www.weatherapi.com/', 'content': \"{'location': {'name': 'Karimnagar', 'region': 'Telangana', 'country': 'India', 'lat': 18.4333, 'lon': 79.15, 'tz_id': 'Asia/Kolkata', 'localtime_epoch': 1747398923, 'localtime': '2025-05-16 18:05'}, 'current': {'last_updated_epoch': 1747398600, 'last_updated': '2025-05-16 18:00', 'temp_c': 36.8, 'temp_f': 98.3, 'is_day': 1, 'condition': {'text': 'Sunny', 'icon': '//cdn.weatherapi.com/weather/64x64/day/113.png', 'code': 1000}, 'wind_mph': 4.7, 'wind_kph': 7.6, 'wind_degree': 352, 'wind_dir': 'N', 'pressure_mb': 1002.0, 'pressure_in': 29.6, 'precip_mm': 0.0, 'precip_in': 0.0, 'humidity': 32, 'cloud': 8, 'feelslike_c': 38.9, 'feelslike_f': 102.1, 'windchill_c': 36.8, 'windchill_f': 98.3, 'heatindex_c': 38.9, 'heatindex_f': 102.1, 'dewpoint_c': 17.6, 'dewpoint_f': 63.7, 'vis_km': 10.0, 'vis_miles': 6.0, 'uv': 0.0, 'gust_mph': 6.3, 'gust_kph': 10.1}}\", 'score': 0.9873629, 'raw_content': None}], 'response_time': 4.17}),\n",
       "  AIMessage(content='The current weather in Hanamkonda, Telangana is generally cloudy with intermittent rain. The forecast for the next 5 days is as follows:\\n\\n- 16-May: 23.0°C/33.0°C\\n- 17-May: 22.0°C/33.0°C', additional_kwargs={}, response_metadata={'token_usage': {'completion_tokens': 63, 'prompt_tokens': 860, 'total_tokens': 923, 'completion_time': 0.084, 'prompt_time': 0.182499975, 'queue_time': 0.166601554, 'total_time': 0.266499975}, 'model_name': 'llama-3.1-8b-instant', 'system_fingerprint': 'fp_a4265e44d5', 'finish_reason': 'stop', 'logprobs': None}, id='run-6381335d-dcb5-4292-aa38-6c83a36b9a88-0', usage_metadata={'input_tokens': 860, 'output_tokens': 63, 'total_tokens': 923})]}"
      ]
     },
     "execution_count": 16,
     "metadata": {},
     "output_type": "execute_result"
    }
   ],
   "source": [
    "# Run the parent graph\n",
    "result = parent_app.invoke({\"messages\": [HumanMessage(content=\"How is the weather in hanamkonda, telangana?\")]})\n",
    "result"
   ]
  },
  {
   "cell_type": "markdown",
   "id": "7d24e2bc",
   "metadata": {},
   "source": [
    "# Case 2: Different Schema (Invoke with Transformation)"
   ]
  },
  {
   "cell_type": "code",
   "execution_count": 17,
   "id": "ff5491d7",
   "metadata": {},
   "outputs": [],
   "source": [
    "from typing import TypedDict, Annotated, Dict\n",
    "from langgraph.graph import StateGraph, START, END\n",
    "from langchain_core.messages import HumanMessage"
   ]
  },
  {
   "cell_type": "code",
   "execution_count": 18,
   "id": "10a7df05",
   "metadata": {},
   "outputs": [],
   "source": [
    "# Define parent graph with different schema\n",
    "class QueryState(TypedDict):\n",
    "    query: str\n",
    "    response: str"
   ]
  },
  {
   "cell_type": "code",
   "execution_count": 19,
   "id": "58c752cf",
   "metadata": {},
   "outputs": [],
   "source": [
    "# Function to invoke subgraph\n",
    "def search_agent(state: QueryState) -> Dict:\n",
    "    # Transform from parent schema to subgraph schema\n",
    "    subgraph_input = {\n",
    "        \"messages\": [HumanMessage(content=state[\"query\"])]\n",
    "    }\n",
    "    \n",
    "    # Invoke the subgraph\n",
    "    subgraph_result = search_app.invoke(subgraph_input)\n",
    "    \n",
    "    # Transform response back to parent schema\n",
    "    assistant_message = subgraph_result[\"messages\"][-1]\n",
    "    return {\"response\": assistant_message.content}\n"
   ]
  },
  {
   "cell_type": "code",
   "execution_count": 20,
   "id": "7e5b0ec2",
   "metadata": {},
   "outputs": [],
   "source": [
    "# Create parent graph\n",
    "parent_graph = StateGraph(QueryState)\n",
    "\n",
    "# Add transformation node that invokes subgraph\n",
    "parent_graph.add_node(\"search_agent\", search_agent)\n",
    "\n",
    "# Connect the flow\n",
    "parent_graph.add_edge(START, \"search_agent\")\n",
    "parent_graph.add_edge(\"search_agent\", END)\n",
    "\n",
    "# Compile parent graph\n",
    "parent_app = parent_graph.compile()"
   ]
  },
  {
   "cell_type": "code",
   "execution_count": 21,
   "id": "e3e58a43",
   "metadata": {},
   "outputs": [
    {
     "data": {
      "text/plain": [
       "{'query': 'How is the weather in KPHB?',\n",
       " 'response': 'The weather in KPHB is expected to be Light Drizzle with a maximum temperature of 34°C and a minimum of 25°C.'}"
      ]
     },
     "execution_count": 21,
     "metadata": {},
     "output_type": "execute_result"
    }
   ],
   "source": [
    "# Run the parent graph\n",
    "result = parent_app.invoke({\"query\": \"How is the weather in KPHB?\", \"response\": \"\"})\n",
    "result"
   ]
  },
  {
   "cell_type": "code",
   "execution_count": null,
   "id": "3afcd607",
   "metadata": {},
   "outputs": [],
   "source": []
  }
 ],
 "metadata": {
  "kernelspec": {
   "display_name": "Python 3 (ipykernel)",
   "language": "python",
   "name": "python3"
  },
  "language_info": {
   "codemirror_mode": {
    "name": "ipython",
    "version": 3
   },
   "file_extension": ".py",
   "mimetype": "text/x-python",
   "name": "python",
   "nbconvert_exporter": "python",
   "pygments_lexer": "ipython3",
   "version": "3.12.9"
  }
 },
 "nbformat": 4,
 "nbformat_minor": 5
}
