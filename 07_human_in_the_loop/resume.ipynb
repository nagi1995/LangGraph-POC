{
 "cells": [
  {
   "cell_type": "code",
   "execution_count": 2,
   "id": "4d6208c7",
   "metadata": {},
   "outputs": [
    {
     "data": {
      "text/plain": [
       "True"
      ]
     },
     "execution_count": 2,
     "metadata": {},
     "output_type": "execute_result"
    }
   ],
   "source": [
    "import sys\n",
    "import os\n",
    "# sys.path.append(os.path.dirname(os.path.dirname(os.path.abspath(__file__))))\n",
    "from logger_config import logger\n",
    "\n",
    "from langgraph.graph import StateGraph, START, END\n",
    "from langgraph.types import Command, interrupt\n",
    "from typing import TypedDict\n",
    "from langgraph.checkpoint.memory import MemorySaver\n",
    "\n",
    "\n",
    "from dotenv import load_dotenv\n",
    "\n",
    "load_dotenv()"
   ]
  },
  {
   "cell_type": "code",
   "execution_count": 3,
   "id": "4ac9da85",
   "metadata": {},
   "outputs": [
    {
     "name": "stderr",
     "output_type": "stream",
     "text": [
      "2025-05-15 22:04:56 | 480633797.py | <module> | Line: 1 | INFO | hi\n"
     ]
    }
   ],
   "source": [
    "logger.info(\"hi\")"
   ]
  },
  {
   "cell_type": "code",
   "execution_count": 4,
   "id": "ee6c469b",
   "metadata": {},
   "outputs": [],
   "source": [
    "memory = MemorySaver()"
   ]
  },
  {
   "cell_type": "code",
   "execution_count": 5,
   "id": "6fbdb3ea",
   "metadata": {},
   "outputs": [],
   "source": [
    "class State(TypedDict):\n",
    "    value: str"
   ]
  },
  {
   "cell_type": "code",
   "execution_count": 15,
   "id": "8f721142",
   "metadata": {},
   "outputs": [],
   "source": [
    "def node_a(state: State): \n",
    "    logger.info(\"Node A\")\n",
    "    return Command(\n",
    "        goto=\"node_b\", \n",
    "        update={\n",
    "            \"value\": state[\"value\"] + \"a\"\n",
    "        }\n",
    "    )\n",
    "\n",
    "def node_b(state: State): \n",
    "    logger.info(\"Node B\")\n",
    "\n",
    "    human_response = interrupt(\"Do you want to go to C or D? Type C/D\")\n",
    "\n",
    "    logger.info(f\"Human Review Values: {human_response}\")\n",
    "    \n",
    "    if(human_response == \"C\"): \n",
    "        return Command(\n",
    "            goto=\"node_c\", \n",
    "            update={\n",
    "                \"value\": state[\"value\"] + \"b\"\n",
    "            }\n",
    "        ) \n",
    "    elif(human_response == \"D\"): \n",
    "        return Command(\n",
    "            goto=\"node_d\", \n",
    "            update={\n",
    "                \"value\": state[\"value\"] + \"b\"\n",
    "            }\n",
    "        )\n",
    "\n",
    "\n",
    "def node_c(state: State): \n",
    "    logger.info(\"Node C\")\n",
    "    return Command(\n",
    "        goto=END, \n",
    "        update={\n",
    "            \"value\": state[\"value\"] + \"c\"\n",
    "        }\n",
    "    )\n",
    "\n",
    "def node_d(state: State): \n",
    "    logger.info(\"Node D\")\n",
    "    return Command(\n",
    "        goto=END, \n",
    "        update={\n",
    "            \"value\": state[\"value\"] + \"d\"\n",
    "        }\n",
    ")\n"
   ]
  },
  {
   "cell_type": "code",
   "execution_count": 19,
   "id": "0e00af06",
   "metadata": {},
   "outputs": [
    {
     "name": "stderr",
     "output_type": "stream",
     "text": [
      "2025-05-15 22:09:23 | 2973161331.py | node_a | Line: 2 | INFO | Node A\n",
      "2025-05-15 22:09:23 | 2973161331.py | node_b | Line: 11 | INFO | Node B\n"
     ]
    },
    {
     "data": {
      "text/plain": [
       "[{'node_a': {'value': 'a'}},\n",
       " {'__interrupt__': (Interrupt(value='Do you want to go to C or D? Type C/D', resumable=True, ns=['node_b:aefcf7eb-3367-5db1-34e9-930dd9f03d5c']),)}]"
      ]
     },
     "execution_count": 19,
     "metadata": {},
     "output_type": "execute_result"
    }
   ],
   "source": [
    "graph = StateGraph(State)\n",
    "\n",
    "graph.add_node(\"node_a\", node_a)\n",
    "graph.add_node(\"node_b\", node_b)\n",
    "graph.add_node(\"node_c\", node_c)\n",
    "graph.add_node(\"node_d\", node_d)\n",
    "\n",
    "graph.set_entry_point(\"node_a\") \n",
    "\n",
    "app = graph.compile(checkpointer=memory)\n",
    "\n",
    "config = {\"configurable\": {\"thread_id\": \"1\"}}\n",
    "\n",
    "initialState = {\n",
    "    \"value\": \"\"\n",
    "}\n",
    "\n",
    "first_result = app.invoke(initialState, config, stream_mode=\"updates\")\n",
    "first_result"
   ]
  },
  {
   "cell_type": "code",
   "execution_count": 20,
   "id": "554400bf",
   "metadata": {},
   "outputs": [
    {
     "name": "stderr",
     "output_type": "stream",
     "text": [
      "2025-05-15 22:09:24 | 3385816404.py | <module> | Line: 1 | INFO | ('node_b',)\n"
     ]
    }
   ],
   "source": [
    "logger.info(app.get_state(config).next)"
   ]
  },
  {
   "cell_type": "code",
   "execution_count": 21,
   "id": "3f22cdde",
   "metadata": {},
   "outputs": [
    {
     "name": "stderr",
     "output_type": "stream",
     "text": [
      "2025-05-15 22:09:24 | 2973161331.py | node_b | Line: 11 | INFO | Node B\n",
      "2025-05-15 22:09:24 | 2973161331.py | node_b | Line: 15 | INFO | Human Review Values: C\n",
      "2025-05-15 22:09:24 | 2973161331.py | node_c | Line: 34 | INFO | Node C\n"
     ]
    },
    {
     "data": {
      "text/plain": [
       "[{'node_b': {'value': 'ab'}}, {'node_c': {'value': 'abc'}}]"
      ]
     },
     "execution_count": 21,
     "metadata": {},
     "output_type": "execute_result"
    }
   ],
   "source": [
    "second_result = app.invoke(Command(resume=\"C\"), config=config, stream_mode=\"updates\")\n",
    "second_result"
   ]
  },
  {
   "cell_type": "code",
   "execution_count": null,
   "id": "92ca9582",
   "metadata": {},
   "outputs": [],
   "source": []
  }
 ],
 "metadata": {
  "kernelspec": {
   "display_name": "Python 3 (ipykernel)",
   "language": "python",
   "name": "python3"
  },
  "language_info": {
   "codemirror_mode": {
    "name": "ipython",
    "version": 3
   },
   "file_extension": ".py",
   "mimetype": "text/x-python",
   "name": "python",
   "nbconvert_exporter": "python",
   "pygments_lexer": "ipython3",
   "version": "3.12.9"
  }
 },
 "nbformat": 4,
 "nbformat_minor": 5
}
